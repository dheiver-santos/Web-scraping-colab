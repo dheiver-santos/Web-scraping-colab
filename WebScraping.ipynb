{
  "nbformat": 4,
  "nbformat_minor": 0,
  "metadata": {
    "colab": {
      "name": "WebScraping.ipynb",
      "provenance": []
    },
    "kernelspec": {
      "name": "python3",
      "display_name": "Python 3"
    },
    "language_info": {
      "name": "python"
    }
  },
  "cells": [
    {
      "cell_type": "markdown",
      "metadata": {
        "id": "tisCYJKPaEXk"
      },
      "source": [
        "Como primeira etapa, você precisa instalar a biblioteca Beautiful Soup usando seu terminal ou laboratório jupyter.\n"
      ]
    },
    {
      "cell_type": "code",
      "metadata": {
        "colab": {
          "base_uri": "https://localhost:8080/"
        },
        "id": "_cueLmBJX9zK",
        "outputId": "3822f295-bb83-4134-c0ae-d525561c6417"
      },
      "source": [
        "!pip3 install beautifulsoup4\n"
      ],
      "execution_count": 21,
      "outputs": [
        {
          "output_type": "stream",
          "text": [
            "Requirement already satisfied: beautifulsoup4 in /usr/local/lib/python3.7/dist-packages (4.6.3)\n"
          ],
          "name": "stdout"
        }
      ]
    },
    {
      "cell_type": "markdown",
      "metadata": {
        "id": "pXeCUKnKaUIT"
      },
      "source": [
        "Importando bibliotecas necessárias\n"
      ]
    },
    {
      "cell_type": "code",
      "metadata": {
        "id": "XB4OKeg3YC44"
      },
      "source": [
        "import pandas as pd\n",
        "import numpy as np\n",
        "import matplotlib.pyplot as plt\n",
        "import seaborn as sns\n",
        "%matplotlib inline\n",
        "import re\n",
        "import time\n",
        "from datetime import datetime\n",
        "import matplotlib.dates as mdates\n",
        "import matplotlib.ticker as ticker\n",
        "from urllib.request import urlopen\n",
        "from bs4 import BeautifulSoup\n",
        "import requests"
      ],
      "execution_count": 22,
      "outputs": []
    },
    {
      "cell_type": "markdown",
      "metadata": {
        "id": "CiK2kTBecXsb"
      },
      "source": [
        ""
      ]
    },
    {
      "cell_type": "code",
      "metadata": {
        "id": "RMfXuluXYbd6"
      },
      "source": [
        "no_pages = 2\n",
        "\n",
        "def get_data(pageNo):  \n",
        "    headers = {\"User-Agent\":\"Mozilla/5.0 (Windows NT 10.0; Win64; x64; rv:66.0) Gecko/20100101 Firefox/66.0\", \"Accept-Encoding\":\"gzip, deflate\", \"Accept\":\"text/html,application/xhtml+xml,application/xml;q=0.9,*/*;q=0.8\", \"DNT\":\"1\",\"Connection\":\"close\", \"Upgrade-Insecure-Requests\":\"1\"}\n",
        "\n",
        "    r = requests.get('https://www.amazon.in/gp/bestsellers/books/ref=zg_bs_pg_'+str(pageNo)+'?ie=UTF8&pg='+str(pageNo), headers=headers)#, proxies=proxies)\n",
        "    content = r.content\n",
        "    soup = BeautifulSoup(content)\n",
        "    #print(soup)\n",
        "\n",
        "    alls = []\n",
        "    for d in soup.findAll('div', attrs={'class':'a-section a-spacing-none aok-relative'}):\n",
        "        #print(d)\n",
        "        name = d.find('span', attrs={'class':'zg-text-center-align'})\n",
        "        n = name.find_all('img', alt=True)\n",
        "        #print(n[0]['alt'])\n",
        "        author = d.find('a', attrs={'class':'a-size-small a-link-child'})\n",
        "        rating = d.find('span', attrs={'class':'a-icon-alt'})\n",
        "        users_rated = d.find('a', attrs={'class':'a-size-small a-link-normal'})\n",
        "        price = d.find('span', attrs={'class':'p13n-sc-price'})\n",
        "\n",
        "        all1=[]\n",
        "\n",
        "        if name is not None:\n",
        "            #print(n[0]['alt'])\n",
        "            all1.append(n[0]['alt'])\n",
        "        else:\n",
        "            all1.append(\"unknown-product\")\n",
        "\n",
        "        if author is not None:\n",
        "            #print(author.text)\n",
        "            all1.append(author.text)\n",
        "        elif author is None:\n",
        "            author = d.find('span', attrs={'class':'a-size-small a-color-base'})\n",
        "            if author is not None:\n",
        "                all1.append(author.text)\n",
        "            else:    \n",
        "                all1.append('0')\n",
        "\n",
        "        if rating is not None:\n",
        "            #print(rating.text)\n",
        "            all1.append(rating.text)\n",
        "        else:\n",
        "            all1.append('-1')\n",
        "\n",
        "        if users_rated is not None:\n",
        "            #print(price.text)\n",
        "            all1.append(users_rated.text)\n",
        "        else:\n",
        "            all1.append('0')     \n",
        "\n",
        "        if price is not None:\n",
        "            #print(price.text)\n",
        "            all1.append(price.text)\n",
        "        else:\n",
        "            all1.append('0')\n",
        "        alls.append(all1)    \n",
        "    return alls"
      ],
      "execution_count": 23,
      "outputs": []
    },
    {
      "cell_type": "code",
      "metadata": {
        "id": "75Dn9iHUYlEs"
      },
      "source": [
        "results = []\n",
        "for i in range(1, no_pages+1):\n",
        "    results.append(get_data(i))\n",
        "flatten = lambda l: [item for sublist in l for item in sublist]\n",
        "df = pd.DataFrame(flatten(results),columns=['Book Name','Author','Rating','Customers_Rated', 'Price'])\n",
        "df.to_csv('amazon_products.csv', index=False, encoding='utf-8')"
      ],
      "execution_count": 24,
      "outputs": []
    },
    {
      "cell_type": "code",
      "metadata": {
        "colab": {
          "base_uri": "https://localhost:8080/"
        },
        "id": "p77aAizOYoQS",
        "outputId": "a35eeece-5e99-4690-9aba-02f0f628bb91"
      },
      "source": [
        "df = pd.read_csv(\"amazon_products.csv\")\n",
        "df.shape\n"
      ],
      "execution_count": 25,
      "outputs": [
        {
          "output_type": "execute_result",
          "data": {
            "text/plain": [
              "(100, 5)"
            ]
          },
          "metadata": {
            "tags": []
          },
          "execution_count": 25
        }
      ]
    },
    {
      "cell_type": "code",
      "metadata": {
        "colab": {
          "base_uri": "https://localhost:8080/",
          "height": 417
        },
        "id": "eMQVGr2HYtvB",
        "outputId": "9ee37135-7552-4d90-fb11-ff6d36e0f0a4"
      },
      "source": [
        "df.head(61)"
      ],
      "execution_count": 26,
      "outputs": [
        {
          "output_type": "execute_result",
          "data": {
            "text/html": [
              "<div>\n",
              "<style scoped>\n",
              "    .dataframe tbody tr th:only-of-type {\n",
              "        vertical-align: middle;\n",
              "    }\n",
              "\n",
              "    .dataframe tbody tr th {\n",
              "        vertical-align: top;\n",
              "    }\n",
              "\n",
              "    .dataframe thead th {\n",
              "        text-align: right;\n",
              "    }\n",
              "</style>\n",
              "<table border=\"1\" class=\"dataframe\">\n",
              "  <thead>\n",
              "    <tr style=\"text-align: right;\">\n",
              "      <th></th>\n",
              "      <th>Book Name</th>\n",
              "      <th>Author</th>\n",
              "      <th>Rating</th>\n",
              "      <th>Customers_Rated</th>\n",
              "      <th>Price</th>\n",
              "    </tr>\n",
              "  </thead>\n",
              "  <tbody>\n",
              "    <tr>\n",
              "      <th>0</th>\n",
              "      <td>My First Library: Boxset of 10 Board Books for...</td>\n",
              "      <td>Wonder House Books</td>\n",
              "      <td>4.5 out of 5 stars</td>\n",
              "      <td>27,794</td>\n",
              "      <td>₹399.00</td>\n",
              "    </tr>\n",
              "    <tr>\n",
              "      <th>1</th>\n",
              "      <td>Ikigai: The Japanese secret to a long and happ...</td>\n",
              "      <td>Héctor García</td>\n",
              "      <td>4.6 out of 5 stars</td>\n",
              "      <td>17,131</td>\n",
              "      <td>₹339.00</td>\n",
              "    </tr>\n",
              "    <tr>\n",
              "      <th>2</th>\n",
              "      <td>The Psychology of Money</td>\n",
              "      <td>Morgan Housel</td>\n",
              "      <td>4.6 out of 5 stars</td>\n",
              "      <td>12,104</td>\n",
              "      <td>₹295.00</td>\n",
              "    </tr>\n",
              "    <tr>\n",
              "      <th>3</th>\n",
              "      <td>My First Book of Pencil Control : Practice Pat...</td>\n",
              "      <td>Wonder House Books</td>\n",
              "      <td>4.4 out of 5 stars</td>\n",
              "      <td>7,011</td>\n",
              "      <td>₹89.00</td>\n",
              "    </tr>\n",
              "    <tr>\n",
              "      <th>4</th>\n",
              "      <td>25 Ki Series - 25 NDA Maths Mock Test Series</td>\n",
              "      <td>Arpit Choudhary</td>\n",
              "      <td>4.5 out of 5 stars</td>\n",
              "      <td>17</td>\n",
              "      <td>0</td>\n",
              "    </tr>\n",
              "    <tr>\n",
              "      <th>...</th>\n",
              "      <td>...</td>\n",
              "      <td>...</td>\n",
              "      <td>...</td>\n",
              "      <td>...</td>\n",
              "      <td>...</td>\n",
              "    </tr>\n",
              "    <tr>\n",
              "      <th>56</th>\n",
              "      <td>My Activity- ABC Colouring Book</td>\n",
              "      <td>Dreamland Publications</td>\n",
              "      <td>4.4 out of 5 stars</td>\n",
              "      <td>2,000</td>\n",
              "      <td>₹78.00</td>\n",
              "    </tr>\n",
              "    <tr>\n",
              "      <th>57</th>\n",
              "      <td>My Big Book of Creative Crayons</td>\n",
              "      <td>Wonder House Books</td>\n",
              "      <td>4.4 out of 5 stars</td>\n",
              "      <td>206</td>\n",
              "      <td>₹149.00</td>\n",
              "    </tr>\n",
              "    <tr>\n",
              "      <th>58</th>\n",
              "      <td>Environment - 8/edition, 2021</td>\n",
              "      <td>Shankar</td>\n",
              "      <td>3.8 out of 5 stars</td>\n",
              "      <td>38</td>\n",
              "      <td>₹204.00</td>\n",
              "    </tr>\n",
              "    <tr>\n",
              "      <th>59</th>\n",
              "      <td>The Power of your Subconscious Mind</td>\n",
              "      <td>Joseph Murphy</td>\n",
              "      <td>4.5 out of 5 stars</td>\n",
              "      <td>34,670</td>\n",
              "      <td>₹149.00</td>\n",
              "    </tr>\n",
              "    <tr>\n",
              "      <th>60</th>\n",
              "      <td>The Theory of Everything: The Origin and Fate ...</td>\n",
              "      <td>Stephen Hawking</td>\n",
              "      <td>4.6 out of 5 stars</td>\n",
              "      <td>6,446</td>\n",
              "      <td>₹169.00</td>\n",
              "    </tr>\n",
              "  </tbody>\n",
              "</table>\n",
              "<p>61 rows × 5 columns</p>\n",
              "</div>"
            ],
            "text/plain": [
              "                                            Book Name  ...    Price\n",
              "0   My First Library: Boxset of 10 Board Books for...  ...  ₹399.00\n",
              "1   Ikigai: The Japanese secret to a long and happ...  ...  ₹339.00\n",
              "2                             The Psychology of Money  ...  ₹295.00\n",
              "3   My First Book of Pencil Control : Practice Pat...  ...   ₹89.00\n",
              "4        25 Ki Series - 25 NDA Maths Mock Test Series  ...        0\n",
              "..                                                ...  ...      ...\n",
              "56                    My Activity- ABC Colouring Book  ...   ₹78.00\n",
              "57                    My Big Book of Creative Crayons  ...  ₹149.00\n",
              "58                      Environment - 8/edition, 2021  ...  ₹204.00\n",
              "59                The Power of your Subconscious Mind  ...  ₹149.00\n",
              "60  The Theory of Everything: The Origin and Fate ...  ...  ₹169.00\n",
              "\n",
              "[61 rows x 5 columns]"
            ]
          },
          "metadata": {
            "tags": []
          },
          "execution_count": 26
        }
      ]
    },
    {
      "cell_type": "code",
      "metadata": {
        "colab": {
          "base_uri": "https://localhost:8080/",
          "height": 203
        },
        "id": "g7gfJ8ESYx2R",
        "outputId": "1087473d-fcba-469a-a21b-d2da350a0db8"
      },
      "source": [
        "df['Rating'] = df['Rating'].apply(lambda x: x.split()[0])\n",
        "df['Rating'] = pd.to_numeric(df['Rating'])\n",
        "df[\"Price\"] = df[\"Price\"].str.replace('₹', '')\n",
        "df[\"Price\"] = df[\"Price\"].str.replace(',', '')\n",
        "df['Price'] = df['Price'].apply(lambda x: x.split('.')[0])\n",
        "df['Price'] = df['Price'].astype(int)\n",
        "df[\"Customers_Rated\"] = df[\"Customers_Rated\"].str.replace(',', '')\n",
        "df['Customers_Rated'] = pd.to_numeric(df['Customers_Rated'], errors='ignore')\n",
        "df.head()\n"
      ],
      "execution_count": 27,
      "outputs": [
        {
          "output_type": "execute_result",
          "data": {
            "text/html": [
              "<div>\n",
              "<style scoped>\n",
              "    .dataframe tbody tr th:only-of-type {\n",
              "        vertical-align: middle;\n",
              "    }\n",
              "\n",
              "    .dataframe tbody tr th {\n",
              "        vertical-align: top;\n",
              "    }\n",
              "\n",
              "    .dataframe thead th {\n",
              "        text-align: right;\n",
              "    }\n",
              "</style>\n",
              "<table border=\"1\" class=\"dataframe\">\n",
              "  <thead>\n",
              "    <tr style=\"text-align: right;\">\n",
              "      <th></th>\n",
              "      <th>Book Name</th>\n",
              "      <th>Author</th>\n",
              "      <th>Rating</th>\n",
              "      <th>Customers_Rated</th>\n",
              "      <th>Price</th>\n",
              "    </tr>\n",
              "  </thead>\n",
              "  <tbody>\n",
              "    <tr>\n",
              "      <th>0</th>\n",
              "      <td>My First Library: Boxset of 10 Board Books for...</td>\n",
              "      <td>Wonder House Books</td>\n",
              "      <td>4.5</td>\n",
              "      <td>27794</td>\n",
              "      <td>399</td>\n",
              "    </tr>\n",
              "    <tr>\n",
              "      <th>1</th>\n",
              "      <td>Ikigai: The Japanese secret to a long and happ...</td>\n",
              "      <td>Héctor García</td>\n",
              "      <td>4.6</td>\n",
              "      <td>17131</td>\n",
              "      <td>339</td>\n",
              "    </tr>\n",
              "    <tr>\n",
              "      <th>2</th>\n",
              "      <td>The Psychology of Money</td>\n",
              "      <td>Morgan Housel</td>\n",
              "      <td>4.6</td>\n",
              "      <td>12104</td>\n",
              "      <td>295</td>\n",
              "    </tr>\n",
              "    <tr>\n",
              "      <th>3</th>\n",
              "      <td>My First Book of Pencil Control : Practice Pat...</td>\n",
              "      <td>Wonder House Books</td>\n",
              "      <td>4.4</td>\n",
              "      <td>7011</td>\n",
              "      <td>89</td>\n",
              "    </tr>\n",
              "    <tr>\n",
              "      <th>4</th>\n",
              "      <td>25 Ki Series - 25 NDA Maths Mock Test Series</td>\n",
              "      <td>Arpit Choudhary</td>\n",
              "      <td>4.5</td>\n",
              "      <td>17</td>\n",
              "      <td>0</td>\n",
              "    </tr>\n",
              "  </tbody>\n",
              "</table>\n",
              "</div>"
            ],
            "text/plain": [
              "                                           Book Name  ... Price\n",
              "0  My First Library: Boxset of 10 Board Books for...  ...   399\n",
              "1  Ikigai: The Japanese secret to a long and happ...  ...   339\n",
              "2                            The Psychology of Money  ...   295\n",
              "3  My First Book of Pencil Control : Practice Pat...  ...    89\n",
              "4       25 Ki Series - 25 NDA Maths Mock Test Series  ...     0\n",
              "\n",
              "[5 rows x 5 columns]"
            ]
          },
          "metadata": {
            "tags": []
          },
          "execution_count": 27
        }
      ]
    },
    {
      "cell_type": "code",
      "metadata": {
        "colab": {
          "base_uri": "https://localhost:8080/"
        },
        "id": "JZ66PQkmZAk8",
        "outputId": "38eb0843-2814-4419-9053-01a22597240c"
      },
      "source": [
        "df.dtypes\n"
      ],
      "execution_count": 28,
      "outputs": [
        {
          "output_type": "execute_result",
          "data": {
            "text/plain": [
              "Book Name           object\n",
              "Author              object\n",
              "Rating             float64\n",
              "Customers_Rated      int64\n",
              "Price                int64\n",
              "dtype: object"
            ]
          },
          "metadata": {
            "tags": []
          },
          "execution_count": 28
        }
      ]
    },
    {
      "cell_type": "code",
      "metadata": {
        "id": "revx2jSJZDSD"
      },
      "source": [
        "df.replace(str(0), np.nan, inplace=True)\n",
        "df.replace(0, np.nan, inplace=True)"
      ],
      "execution_count": 29,
      "outputs": []
    },
    {
      "cell_type": "code",
      "metadata": {
        "id": "vvFwGTDEZFxa"
      },
      "source": [
        "count_nan = len(df) - df.count()\n"
      ],
      "execution_count": 30,
      "outputs": []
    },
    {
      "cell_type": "code",
      "metadata": {
        "colab": {
          "base_uri": "https://localhost:8080/"
        },
        "id": "2K0zN3rCZIoE",
        "outputId": "7ac0022c-910f-455d-84ef-0cf3767aa774"
      },
      "source": [
        "count_nan\n"
      ],
      "execution_count": 31,
      "outputs": [
        {
          "output_type": "execute_result",
          "data": {
            "text/plain": [
              "Book Name          0\n",
              "Author             0\n",
              "Rating             0\n",
              "Customers_Rated    1\n",
              "Price              1\n",
              "dtype: int64"
            ]
          },
          "metadata": {
            "tags": []
          },
          "execution_count": 31
        }
      ]
    },
    {
      "cell_type": "code",
      "metadata": {
        "id": "e8xetw47ZLnr"
      },
      "source": [
        "df = df.dropna()\n"
      ],
      "execution_count": 32,
      "outputs": []
    },
    {
      "cell_type": "markdown",
      "metadata": {
        "id": "F25Kows0gfsj"
      },
      "source": [
        "Vamos descobrir quais autores tiveram o livro mais caro. Você irá visualizar os resultados para esses 20 autores principais.\n",
        "\n"
      ]
    },
    {
      "cell_type": "code",
      "metadata": {
        "colab": {
          "base_uri": "https://localhost:8080/",
          "height": 511
        },
        "id": "fC8DAqbqZOP7",
        "outputId": "40b10f27-1b6b-4573-b475-5c5afbdf9ce6"
      },
      "source": [
        "data = df.sort_values([\"Price\"], axis=0, ascending=False)[:15]\n",
        "data"
      ],
      "execution_count": 37,
      "outputs": [
        {
          "output_type": "execute_result",
          "data": {
            "text/html": [
              "<div>\n",
              "<style scoped>\n",
              "    .dataframe tbody tr th:only-of-type {\n",
              "        vertical-align: middle;\n",
              "    }\n",
              "\n",
              "    .dataframe tbody tr th {\n",
              "        vertical-align: top;\n",
              "    }\n",
              "\n",
              "    .dataframe thead th {\n",
              "        text-align: right;\n",
              "    }\n",
              "</style>\n",
              "<table border=\"1\" class=\"dataframe\">\n",
              "  <thead>\n",
              "    <tr style=\"text-align: right;\">\n",
              "      <th></th>\n",
              "      <th>Book Name</th>\n",
              "      <th>Author</th>\n",
              "      <th>Rating</th>\n",
              "      <th>Customers_Rated</th>\n",
              "      <th>Price</th>\n",
              "    </tr>\n",
              "  </thead>\n",
              "  <tbody>\n",
              "    <tr>\n",
              "      <th>62</th>\n",
              "      <td>How to Prepare for QUANTITATIVE APTITUDE for C...</td>\n",
              "      <td>Arun Sharma</td>\n",
              "      <td>4.7</td>\n",
              "      <td>29.0</td>\n",
              "      <td>808.0</td>\n",
              "    </tr>\n",
              "    <tr>\n",
              "      <th>51</th>\n",
              "      <td>My First Complete Learning Library: Boxset of ...</td>\n",
              "      <td>Wonder House Books</td>\n",
              "      <td>4.6</td>\n",
              "      <td>5340.0</td>\n",
              "      <td>790.0</td>\n",
              "    </tr>\n",
              "    <tr>\n",
              "      <th>66</th>\n",
              "      <td>NCERT textbooks physics, chemistry and biology...</td>\n",
              "      <td>NCERT</td>\n",
              "      <td>4.1</td>\n",
              "      <td>1022.0</td>\n",
              "      <td>650.0</td>\n",
              "    </tr>\n",
              "    <tr>\n",
              "      <th>17</th>\n",
              "      <td>Indian Polity - For Civil Services and Other S...</td>\n",
              "      <td>M. Laxmikanth</td>\n",
              "      <td>4.6</td>\n",
              "      <td>11029.0</td>\n",
              "      <td>615.0</td>\n",
              "    </tr>\n",
              "    <tr>\n",
              "      <th>90</th>\n",
              "      <td>Mathematics for Class 11 (set of 2 volumes) Ex...</td>\n",
              "      <td>R.D. Sharma</td>\n",
              "      <td>4.6</td>\n",
              "      <td>1091.0</td>\n",
              "      <td>600.0</td>\n",
              "    </tr>\n",
              "    <tr>\n",
              "      <th>41</th>\n",
              "      <td>A Modern Approach to Verbal &amp; Non-Verbal Reaso...</td>\n",
              "      <td>R.S. Aggarwal</td>\n",
              "      <td>4.4</td>\n",
              "      <td>6070.0</td>\n",
              "      <td>544.0</td>\n",
              "    </tr>\n",
              "    <tr>\n",
              "      <th>86</th>\n",
              "      <td>Indian Art and Culture for Civil Services and ...</td>\n",
              "      <td>Nitin Singhania</td>\n",
              "      <td>4.6</td>\n",
              "      <td>3313.0</td>\n",
              "      <td>540.0</td>\n",
              "    </tr>\n",
              "    <tr>\n",
              "      <th>15</th>\n",
              "      <td>Objective NCERT at your FINGERTIPS for NEET-AI...</td>\n",
              "      <td>MTG Editorial Board</td>\n",
              "      <td>4.6</td>\n",
              "      <td>2335.0</td>\n",
              "      <td>539.0</td>\n",
              "    </tr>\n",
              "    <tr>\n",
              "      <th>35</th>\n",
              "      <td>The Intelligent Investor (English) Paperback –...</td>\n",
              "      <td>Benjamin Graham</td>\n",
              "      <td>4.5</td>\n",
              "      <td>25466.0</td>\n",
              "      <td>518.0</td>\n",
              "    </tr>\n",
              "    <tr>\n",
              "      <th>96</th>\n",
              "      <td>Objective NCERT at your Fingertips for NEET-AI...</td>\n",
              "      <td>MTG Editorial Board</td>\n",
              "      <td>4.5</td>\n",
              "      <td>1899.0</td>\n",
              "      <td>510.0</td>\n",
              "    </tr>\n",
              "    <tr>\n",
              "      <th>44</th>\n",
              "      <td>Best of Children’s Classics (Set of 5 Books): ...</td>\n",
              "      <td>Antoine de Saint-Exupéry</td>\n",
              "      <td>4.4</td>\n",
              "      <td>918.0</td>\n",
              "      <td>499.0</td>\n",
              "    </tr>\n",
              "    <tr>\n",
              "      <th>79</th>\n",
              "      <td>All set to Read-A Phonic Reader-Level 1- PHONI...</td>\n",
              "      <td>Om Books Editorial Team</td>\n",
              "      <td>4.6</td>\n",
              "      <td>574.0</td>\n",
              "      <td>487.0</td>\n",
              "    </tr>\n",
              "    <tr>\n",
              "      <th>10</th>\n",
              "      <td>Quantitative Aptitude for Competitive Examinat...</td>\n",
              "      <td>R S Aggarwal</td>\n",
              "      <td>4.4</td>\n",
              "      <td>13912.0</td>\n",
              "      <td>473.0</td>\n",
              "    </tr>\n",
              "    <tr>\n",
              "      <th>85</th>\n",
              "      <td>The Official Cambridge Guide To Ielts Student'...</td>\n",
              "      <td>Pauline Cullen</td>\n",
              "      <td>4.4</td>\n",
              "      <td>2826.0</td>\n",
              "      <td>449.0</td>\n",
              "    </tr>\n",
              "    <tr>\n",
              "      <th>91</th>\n",
              "      <td>Objective NCERT at your FINGERTIPS for NEET-AI...</td>\n",
              "      <td>MTG Editorial Board</td>\n",
              "      <td>4.5</td>\n",
              "      <td>660.0</td>\n",
              "      <td>447.0</td>\n",
              "    </tr>\n",
              "  </tbody>\n",
              "</table>\n",
              "</div>"
            ],
            "text/plain": [
              "                                            Book Name  ...  Price\n",
              "62  How to Prepare for QUANTITATIVE APTITUDE for C...  ...  808.0\n",
              "51  My First Complete Learning Library: Boxset of ...  ...  790.0\n",
              "66  NCERT textbooks physics, chemistry and biology...  ...  650.0\n",
              "17  Indian Polity - For Civil Services and Other S...  ...  615.0\n",
              "90  Mathematics for Class 11 (set of 2 volumes) Ex...  ...  600.0\n",
              "41  A Modern Approach to Verbal & Non-Verbal Reaso...  ...  544.0\n",
              "86  Indian Art and Culture for Civil Services and ...  ...  540.0\n",
              "15  Objective NCERT at your FINGERTIPS for NEET-AI...  ...  539.0\n",
              "35  The Intelligent Investor (English) Paperback –...  ...  518.0\n",
              "96  Objective NCERT at your Fingertips for NEET-AI...  ...  510.0\n",
              "44  Best of Children’s Classics (Set of 5 Books): ...  ...  499.0\n",
              "79  All set to Read-A Phonic Reader-Level 1- PHONI...  ...  487.0\n",
              "10  Quantitative Aptitude for Competitive Examinat...  ...  473.0\n",
              "85  The Official Cambridge Guide To Ielts Student'...  ...  449.0\n",
              "91  Objective NCERT at your FINGERTIPS for NEET-AI...  ...  447.0\n",
              "\n",
              "[15 rows x 5 columns]"
            ]
          },
          "metadata": {
            "tags": []
          },
          "execution_count": 37
        }
      ]
    },
    {
      "cell_type": "markdown",
      "metadata": {
        "id": "ZWKu51X4aDOA"
      },
      "source": [
        ""
      ]
    }
  ]
}